{
 "cells": [
  {
   "cell_type": "code",
   "execution_count": 1,
   "metadata": {},
   "outputs": [],
   "source": [
    "import numpy as np\n",
    "import tensorflow as tf\n",
    "from tensorflow.keras.datasets import imdb\n",
    "from tensorflow.keras.preprocessing import sequence\n",
    "from tensorflow.keras.models import load_model"
   ]
  },
  {
   "cell_type": "code",
   "execution_count": 2,
   "metadata": {},
   "outputs": [],
   "source": [
    "\n",
    "# Load the IMDB dataset word index\n",
    "word_index = imdb.get_word_index()\n",
    "reverse_word_index = {value: key for key, value in word_index.items()}"
   ]
  },
  {
   "cell_type": "code",
   "execution_count": 3,
   "metadata": {},
   "outputs": [
    {
     "name": "stderr",
     "output_type": "stream",
     "text": [
      "WARNING:absl:Compiled the loaded model, but the compiled metrics have yet to be built. `model.compile_metrics` will be empty until you train or evaluate the model.\n"
     ]
    },
    {
     "data": {
      "text/html": [
       "<pre style=\"white-space:pre;overflow-x:auto;line-height:normal;font-family:Menlo,'DejaVu Sans Mono',consolas,'Courier New',monospace\"><span style=\"font-weight: bold\">Model: \"sequential_1\"</span>\n",
       "</pre>\n"
      ],
      "text/plain": [
       "\u001b[1mModel: \"sequential_1\"\u001b[0m\n"
      ]
     },
     "metadata": {},
     "output_type": "display_data"
    },
    {
     "data": {
      "text/html": [
       "<pre style=\"white-space:pre;overflow-x:auto;line-height:normal;font-family:Menlo,'DejaVu Sans Mono',consolas,'Courier New',monospace\">┏━━━━━━━━━━━━━━━━━━━━━━━━━━━━━━━━━┳━━━━━━━━━━━━━━━━━━━━━━━━┳━━━━━━━━━━━━━━━┓\n",
       "┃<span style=\"font-weight: bold\"> Layer (type)                    </span>┃<span style=\"font-weight: bold\"> Output Shape           </span>┃<span style=\"font-weight: bold\">       Param # </span>┃\n",
       "┡━━━━━━━━━━━━━━━━━━━━━━━━━━━━━━━━━╇━━━━━━━━━━━━━━━━━━━━━━━━╇━━━━━━━━━━━━━━━┩\n",
       "│ embedding_1 (<span style=\"color: #0087ff; text-decoration-color: #0087ff\">Embedding</span>)         │ (<span style=\"color: #00d7ff; text-decoration-color: #00d7ff\">None</span>, <span style=\"color: #00af00; text-decoration-color: #00af00\">100</span>, <span style=\"color: #00af00; text-decoration-color: #00af00\">128</span>)       │     <span style=\"color: #00af00; text-decoration-color: #00af00\">1,280,000</span> │\n",
       "├─────────────────────────────────┼────────────────────────┼───────────────┤\n",
       "│ simple_rnn_1 (<span style=\"color: #0087ff; text-decoration-color: #0087ff\">SimpleRNN</span>)        │ (<span style=\"color: #00d7ff; text-decoration-color: #00d7ff\">None</span>, <span style=\"color: #00af00; text-decoration-color: #00af00\">128</span>)            │        <span style=\"color: #00af00; text-decoration-color: #00af00\">32,896</span> │\n",
       "├─────────────────────────────────┼────────────────────────┼───────────────┤\n",
       "│ dense_1 (<span style=\"color: #0087ff; text-decoration-color: #0087ff\">Dense</span>)                 │ (<span style=\"color: #00d7ff; text-decoration-color: #00d7ff\">None</span>, <span style=\"color: #00af00; text-decoration-color: #00af00\">1</span>)              │           <span style=\"color: #00af00; text-decoration-color: #00af00\">129</span> │\n",
       "└─────────────────────────────────┴────────────────────────┴───────────────┘\n",
       "</pre>\n"
      ],
      "text/plain": [
       "┏━━━━━━━━━━━━━━━━━━━━━━━━━━━━━━━━━┳━━━━━━━━━━━━━━━━━━━━━━━━┳━━━━━━━━━━━━━━━┓\n",
       "┃\u001b[1m \u001b[0m\u001b[1mLayer (type)                   \u001b[0m\u001b[1m \u001b[0m┃\u001b[1m \u001b[0m\u001b[1mOutput Shape          \u001b[0m\u001b[1m \u001b[0m┃\u001b[1m \u001b[0m\u001b[1m      Param #\u001b[0m\u001b[1m \u001b[0m┃\n",
       "┡━━━━━━━━━━━━━━━━━━━━━━━━━━━━━━━━━╇━━━━━━━━━━━━━━━━━━━━━━━━╇━━━━━━━━━━━━━━━┩\n",
       "│ embedding_1 (\u001b[38;5;33mEmbedding\u001b[0m)         │ (\u001b[38;5;45mNone\u001b[0m, \u001b[38;5;34m100\u001b[0m, \u001b[38;5;34m128\u001b[0m)       │     \u001b[38;5;34m1,280,000\u001b[0m │\n",
       "├─────────────────────────────────┼────────────────────────┼───────────────┤\n",
       "│ simple_rnn_1 (\u001b[38;5;33mSimpleRNN\u001b[0m)        │ (\u001b[38;5;45mNone\u001b[0m, \u001b[38;5;34m128\u001b[0m)            │        \u001b[38;5;34m32,896\u001b[0m │\n",
       "├─────────────────────────────────┼────────────────────────┼───────────────┤\n",
       "│ dense_1 (\u001b[38;5;33mDense\u001b[0m)                 │ (\u001b[38;5;45mNone\u001b[0m, \u001b[38;5;34m1\u001b[0m)              │           \u001b[38;5;34m129\u001b[0m │\n",
       "└─────────────────────────────────┴────────────────────────┴───────────────┘\n"
      ]
     },
     "metadata": {},
     "output_type": "display_data"
    },
    {
     "data": {
      "text/html": [
       "<pre style=\"white-space:pre;overflow-x:auto;line-height:normal;font-family:Menlo,'DejaVu Sans Mono',consolas,'Courier New',monospace\"><span style=\"font-weight: bold\"> Total params: </span><span style=\"color: #00af00; text-decoration-color: #00af00\">1,313,027</span> (5.01 MB)\n",
       "</pre>\n"
      ],
      "text/plain": [
       "\u001b[1m Total params: \u001b[0m\u001b[38;5;34m1,313,027\u001b[0m (5.01 MB)\n"
      ]
     },
     "metadata": {},
     "output_type": "display_data"
    },
    {
     "data": {
      "text/html": [
       "<pre style=\"white-space:pre;overflow-x:auto;line-height:normal;font-family:Menlo,'DejaVu Sans Mono',consolas,'Courier New',monospace\"><span style=\"font-weight: bold\"> Trainable params: </span><span style=\"color: #00af00; text-decoration-color: #00af00\">1,313,025</span> (5.01 MB)\n",
       "</pre>\n"
      ],
      "text/plain": [
       "\u001b[1m Trainable params: \u001b[0m\u001b[38;5;34m1,313,025\u001b[0m (5.01 MB)\n"
      ]
     },
     "metadata": {},
     "output_type": "display_data"
    },
    {
     "data": {
      "text/html": [
       "<pre style=\"white-space:pre;overflow-x:auto;line-height:normal;font-family:Menlo,'DejaVu Sans Mono',consolas,'Courier New',monospace\"><span style=\"font-weight: bold\"> Non-trainable params: </span><span style=\"color: #00af00; text-decoration-color: #00af00\">0</span> (0.00 B)\n",
       "</pre>\n"
      ],
      "text/plain": [
       "\u001b[1m Non-trainable params: \u001b[0m\u001b[38;5;34m0\u001b[0m (0.00 B)\n"
      ]
     },
     "metadata": {},
     "output_type": "display_data"
    },
    {
     "data": {
      "text/html": [
       "<pre style=\"white-space:pre;overflow-x:auto;line-height:normal;font-family:Menlo,'DejaVu Sans Mono',consolas,'Courier New',monospace\"><span style=\"font-weight: bold\"> Optimizer params: </span><span style=\"color: #00af00; text-decoration-color: #00af00\">2</span> (12.00 B)\n",
       "</pre>\n"
      ],
      "text/plain": [
       "\u001b[1m Optimizer params: \u001b[0m\u001b[38;5;34m2\u001b[0m (12.00 B)\n"
      ]
     },
     "metadata": {},
     "output_type": "display_data"
    }
   ],
   "source": [
    "# Load the pre-trained model with ReLU activation\n",
    "model = load_model('simple_rnn_imdb.h5')\n",
    "model.summary()"
   ]
  },
  {
   "cell_type": "code",
   "execution_count": 4,
   "metadata": {},
   "outputs": [
    {
     "data": {
      "text/plain": [
       "[array([[ 0.17913473, -0.15153675, -0.16100927, ...,  0.12287956,\n",
       "         -0.10820047, -0.10635801],\n",
       "        [ 0.04239818, -0.01443372, -0.03864076, ...,  0.06666043,\n",
       "         -0.01918983, -0.02347913],\n",
       "        [ 0.02532512, -0.0426258 ,  0.01599229, ...,  0.02935859,\n",
       "         -0.00858086, -0.04338437],\n",
       "        ...,\n",
       "        [ 0.01092134,  0.05629872, -0.06212624, ..., -0.04974543,\n",
       "         -0.01941076, -0.09070527],\n",
       "        [ 0.14746675, -0.12722701,  0.08654539, ..., -0.0074454 ,\n",
       "          0.1801644 ,  0.09542348],\n",
       "        [-0.13167082,  0.10016706, -0.00637594, ...,  0.01833077,\n",
       "          0.06557599, -0.02076355]], dtype=float32),\n",
       " array([[ 0.00360321, -0.05431926,  0.10027386, ..., -0.0354463 ,\n",
       "          0.09891752, -0.01361504],\n",
       "        [ 0.11147638, -0.07588543,  0.08966321, ..., -0.09977867,\n",
       "         -0.1078283 ,  0.02126404],\n",
       "        [ 0.08054689,  0.1577405 ,  0.13848503, ...,  0.00695348,\n",
       "          0.07377862,  0.04138822],\n",
       "        ...,\n",
       "        [ 0.15835287,  0.06969866, -0.09706326, ..., -0.1363563 ,\n",
       "         -0.1270521 , -0.10055493],\n",
       "        [-0.13837652,  0.04489757,  0.06848236, ...,  0.02834046,\n",
       "         -0.09318745,  0.16071023],\n",
       "        [ 0.0647657 ,  0.10110445, -0.00558494, ..., -0.11238768,\n",
       "         -0.06735418, -0.17836529]], dtype=float32),\n",
       " array([[-0.04677179, -0.06818584, -0.08157177, ...,  0.12036972,\n",
       "          0.02116555,  0.09519026],\n",
       "        [-0.06313886,  0.00347197,  0.07327008, ...,  0.04363228,\n",
       "          0.13417695, -0.04203309],\n",
       "        [-0.10263537, -0.15326132,  0.0924191 , ...,  0.00683974,\n",
       "         -0.0963609 , -0.0179453 ],\n",
       "        ...,\n",
       "        [-0.05134818, -0.10746717,  0.02700428, ...,  0.1082125 ,\n",
       "         -0.0792261 , -0.0155528 ],\n",
       "        [ 0.11259051, -0.0142537 ,  0.09957664, ..., -0.10531454,\n",
       "          0.00597362, -0.04850963],\n",
       "        [ 0.01824474, -0.05623592,  0.01991132, ...,  0.02064172,\n",
       "          0.00824615,  0.01969076]], dtype=float32),\n",
       " array([ 0.0026142 ,  0.0038716 , -0.01935639,  0.0329542 , -0.02640412,\n",
       "        -0.00694629, -0.01916639,  0.02127343, -0.01282386,  0.00727887,\n",
       "         0.01316382, -0.03791491, -0.01252742, -0.02948501,  0.02338341,\n",
       "        -0.03441131,  0.00086978, -0.00343791,  0.01823724, -0.05923104,\n",
       "        -0.03713145, -0.01235089,  0.00229235,  0.0275572 , -0.07667313,\n",
       "        -0.02711721, -0.02540988, -0.01538836,  0.02014299, -0.00525465,\n",
       "        -0.04104647, -0.01994116, -0.01098691, -0.01359685,  0.02440324,\n",
       "         0.00236844, -0.07046326, -0.03121314,  0.0228754 , -0.01233783,\n",
       "        -0.06368818, -0.02919404,  0.00546433, -0.00454193,  0.03198436,\n",
       "        -0.0111613 , -0.04508465,  0.01165151,  0.02118407,  0.03737658,\n",
       "         0.00115461, -0.0416769 , -0.0041025 , -0.02972396, -0.00481435,\n",
       "        -0.01912161, -0.00547433, -0.02512714, -0.00445036,  0.00281171,\n",
       "        -0.05638218,  0.01369582,  0.00089019,  0.0233093 , -0.04835024,\n",
       "        -0.00165333,  0.02532753,  0.00933519,  0.01820744, -0.01991444,\n",
       "        -0.04402206,  0.02315298, -0.00788489, -0.02087252, -0.02422912,\n",
       "        -0.00493899, -0.01745973, -0.01109049, -0.05446371, -0.00625502,\n",
       "         0.01489755, -0.00620975,  0.01680025, -0.0210523 , -0.02478009,\n",
       "        -0.05695558, -0.01647038, -0.00622677,  0.0299855 , -0.01655219,\n",
       "         0.00384559, -0.01373   , -0.01219441, -0.00749718, -0.02843087,\n",
       "        -0.00962459, -0.00160085, -0.02250881, -0.00498488, -0.01902756,\n",
       "         0.00645835, -0.00537072, -0.01962669, -0.00812117,  0.01513337,\n",
       "        -0.00588747,  0.00347099,  0.01019945, -0.00969298, -0.04737962,\n",
       "        -0.02337769, -0.02808719,  0.01683077,  0.00855511, -0.00911689,\n",
       "        -0.05773744, -0.0156156 , -0.01384659, -0.04774965,  0.00999714,\n",
       "         0.00516798, -0.01856697,  0.04871194, -0.02684548,  0.01901853,\n",
       "        -0.01306705,  0.01034466, -0.02593037], dtype=float32),\n",
       " array([[ 0.16497302],\n",
       "        [ 0.10280556],\n",
       "        [ 0.04220268],\n",
       "        [ 0.11243811],\n",
       "        [-0.0519536 ],\n",
       "        [-0.19159268],\n",
       "        [-0.03453892],\n",
       "        [-0.14653157],\n",
       "        [ 0.01785309],\n",
       "        [ 0.12887889],\n",
       "        [-0.23198947],\n",
       "        [-0.1208946 ],\n",
       "        [-0.94764435],\n",
       "        [-0.11584597],\n",
       "        [ 0.29028472],\n",
       "        [-0.060243  ],\n",
       "        [-0.15299645],\n",
       "        [ 0.05336468],\n",
       "        [-0.16234484],\n",
       "        [ 0.10759358],\n",
       "        [-0.10083868],\n",
       "        [ 0.14258307],\n",
       "        [ 0.0889574 ],\n",
       "        [ 0.20265369],\n",
       "        [ 0.11442021],\n",
       "        [ 0.10782006],\n",
       "        [ 0.08158594],\n",
       "        [ 0.04804168],\n",
       "        [ 0.19416346],\n",
       "        [-0.01480663],\n",
       "        [-0.09182015],\n",
       "        [ 0.07537729],\n",
       "        [ 0.04736826],\n",
       "        [-0.2355414 ],\n",
       "        [ 0.02960412],\n",
       "        [-0.09684438],\n",
       "        [ 0.40482935],\n",
       "        [-0.15586938],\n",
       "        [ 0.11803403],\n",
       "        [ 0.11920779],\n",
       "        [ 0.6286909 ],\n",
       "        [-0.22985403],\n",
       "        [ 0.26855636],\n",
       "        [ 0.20169488],\n",
       "        [ 0.2584092 ],\n",
       "        [-0.04545503],\n",
       "        [-0.22091617],\n",
       "        [-0.01226831],\n",
       "        [-0.09746356],\n",
       "        [-0.2787545 ],\n",
       "        [ 0.19275811],\n",
       "        [-0.22507992],\n",
       "        [-0.12985413],\n",
       "        [ 0.01039952],\n",
       "        [ 0.15231253],\n",
       "        [-0.0921147 ],\n",
       "        [ 0.04776088],\n",
       "        [-0.00492813],\n",
       "        [ 0.10259284],\n",
       "        [ 0.24634665],\n",
       "        [ 0.97299355],\n",
       "        [-0.07798094],\n",
       "        [ 0.13916571],\n",
       "        [-0.27009025],\n",
       "        [-0.04867626],\n",
       "        [ 0.12193199],\n",
       "        [-0.10541865],\n",
       "        [-0.11151899],\n",
       "        [ 0.05849219],\n",
       "        [ 0.18962562],\n",
       "        [ 0.18417813],\n",
       "        [-0.11399796],\n",
       "        [ 0.20127553],\n",
       "        [ 0.01433692],\n",
       "        [-0.05857588],\n",
       "        [ 0.11389575],\n",
       "        [-0.06306458],\n",
       "        [-0.01019365],\n",
       "        [-0.09283813],\n",
       "        [ 0.01050005],\n",
       "        [ 0.26988688],\n",
       "        [ 0.14380568],\n",
       "        [-0.07798736],\n",
       "        [ 0.3922844 ],\n",
       "        [-0.2237574 ],\n",
       "        [-0.19240649],\n",
       "        [ 0.1254178 ],\n",
       "        [ 0.1611443 ],\n",
       "        [-0.20911592],\n",
       "        [-0.17901109],\n",
       "        [-0.14557879],\n",
       "        [-0.06763721],\n",
       "        [ 0.07493609],\n",
       "        [-0.15271701],\n",
       "        [ 0.043383  ],\n",
       "        [-0.02819298],\n",
       "        [ 0.16233902],\n",
       "        [-0.16192186],\n",
       "        [ 0.15346932],\n",
       "        [-0.03883055],\n",
       "        [ 0.0315569 ],\n",
       "        [ 0.20382132],\n",
       "        [-0.04773174],\n",
       "        [-0.12438848],\n",
       "        [ 0.27039993],\n",
       "        [ 0.18071869],\n",
       "        [-0.04935551],\n",
       "        [-0.1384704 ],\n",
       "        [ 0.1902571 ],\n",
       "        [ 0.2103541 ],\n",
       "        [-0.08910647],\n",
       "        [-0.075899  ],\n",
       "        [-0.23352249],\n",
       "        [-0.26759717],\n",
       "        [ 0.06447048],\n",
       "        [-0.16243044],\n",
       "        [-0.05314605],\n",
       "        [ 0.2044754 ],\n",
       "        [-0.20444945],\n",
       "        [ 0.11354133],\n",
       "        [-0.231466  ],\n",
       "        [-0.205463  ],\n",
       "        [ 0.05064621],\n",
       "        [ 0.13164535],\n",
       "        [-0.01613347],\n",
       "        [-0.04560139],\n",
       "        [ 0.14444146],\n",
       "        [-0.13727994]], dtype=float32),\n",
       " array([1.283599], dtype=float32)]"
      ]
     },
     "execution_count": 4,
     "metadata": {},
     "output_type": "execute_result"
    }
   ],
   "source": [
    "model.get_weights()"
   ]
  },
  {
   "cell_type": "code",
   "execution_count": 5,
   "metadata": {},
   "outputs": [],
   "source": [
    "# Step 2: Helper Functions\n",
    "# Function to decode reviews\n",
    "def decode_review(encoded_review):\n",
    "    return ' '.join([reverse_word_index.get(i - 3, '?') for i in encoded_review])\n",
    "\n",
    "# Function to preprocess user input\n",
    "def preprocess_text(text):\n",
    "    words = text.lower().split()\n",
    "    encoded_review = [word_index.get(word, 2) + 3 for word in words]\n",
    "    padded_review = sequence.pad_sequences([encoded_review], maxlen=500)\n",
    "    return padded_review"
   ]
  },
  {
   "cell_type": "code",
   "execution_count": 6,
   "metadata": {},
   "outputs": [],
   "source": [
    "### Prediction  function\n",
    "\n",
    "def predict_sentiment(review):\n",
    "    preprocessed_input=preprocess_text(review)\n",
    "\n",
    "    prediction=model.predict(preprocessed_input)\n",
    "\n",
    "    sentiment = 'Positive' if prediction[0][0] > 0.5 else 'Negative'\n",
    "    \n",
    "    return sentiment, prediction[0][0]"
   ]
  },
  {
   "cell_type": "code",
   "execution_count": 7,
   "metadata": {},
   "outputs": [
    {
     "name": "stdout",
     "output_type": "stream",
     "text": [
      "\u001b[1m1/1\u001b[0m \u001b[32m━━━━━━━━━━━━━━━━━━━━\u001b[0m\u001b[37m\u001b[0m \u001b[1m0s\u001b[0m 233ms/step\n",
      "Review: This movie was fantastic! The acting was great and the plot was thrilling.\n",
      "Sentiment: Positive\n",
      "Prediction Score: 0.7212965488433838\n"
     ]
    }
   ],
   "source": [
    "# Step 4: User Input and Prediction\n",
    "# Example review for prediction\n",
    "example_review = \"This movie was fantastic! The acting was great and the plot was thrilling.\"\n",
    "\n",
    "sentiment,score=predict_sentiment(example_review)\n",
    "\n",
    "print(f'Review: {example_review}')\n",
    "print(f'Sentiment: {sentiment}')\n",
    "print(f'Prediction Score: {score}')"
   ]
  },
  {
   "cell_type": "code",
   "execution_count": null,
   "metadata": {},
   "outputs": [],
   "source": []
  }
 ],
 "metadata": {
  "kernelspec": {
   "display_name": "Python 3",
   "language": "python",
   "name": "python3"
  },
  "language_info": {
   "codemirror_mode": {
    "name": "ipython",
    "version": 3
   },
   "file_extension": ".py",
   "mimetype": "text/x-python",
   "name": "python",
   "nbconvert_exporter": "python",
   "pygments_lexer": "ipython3",
   "version": "3.12.2"
  }
 },
 "nbformat": 4,
 "nbformat_minor": 2
}
